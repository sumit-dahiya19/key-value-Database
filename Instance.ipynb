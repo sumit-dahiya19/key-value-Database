{
 "cells": [
  {
   "cell_type": "code",
   "execution_count": 1,
   "metadata": {},
   "outputs": [],
   "source": [
    "#importing library of our functions\n",
    "%run Library.ipynb"
   ]
  },
  {
   "cell_type": "code",
   "execution_count": null,
   "metadata": {},
   "outputs": [],
   "source": []
  },
  {
   "cell_type": "code",
   "execution_count": 2,
   "metadata": {},
   "outputs": [
    {
     "name": "stdout",
     "output_type": "stream",
     "text": [
      "Do you want to import master database and perform operations on it yes/no : no\n"
     ]
    }
   ],
   "source": [
    "x=input('Do you want to import master database and perform operations on it yes/no : ')\n",
    "if(x=='yes'):\n",
    "    #load master database\n",
    "    print('Loading master database in temp....')\n",
    "    with open('master.json', 'r') as masteropen:\n",
    "        data_load = json.load(masteropen)\n",
    "    temp=data_load\n",
    "    print('Loaded master database')\n",
    "    print(temp)\n",
    "\n"
   ]
  },
  {
   "cell_type": "markdown",
   "metadata": {},
   "source": [
    "### Run this"
   ]
  },
  {
   "cell_type": "code",
   "execution_count": 3,
   "metadata": {},
   "outputs": [
    {
     "name": "stdout",
     "output_type": "stream",
     "text": [
      "Enter 1 for create , 2 for read , 3 for delete , 4 to exit , 5 to show data 1\n",
      "Enter key for input1\n",
      "Enter its corresponding value 2\n",
      "Enter 1 for create , 2 for read , 3 for delete , 4 to exit , 5 to show data 1\n",
      "Enter key for input3\n",
      "Enter its corresponding value 4\n",
      "Enter 1 for create , 2 for read , 3 for delete , 4 to exit , 5 to show data 2\n",
      "Enter key to read1\n",
      "1:2\n",
      "Enter 1 for create , 2 for read , 3 for delete , 4 to exit , 5 to show data 4\n"
     ]
    }
   ],
   "source": [
    "flag=True\n",
    "while flag:\n",
    "    x=int(input('Enter 1 for create , 2 for read , 3 for delete , 4 to exit , 5 to show data '))\n",
    "    if(x==4):\n",
    "        break\n",
    "    if(x==1):\n",
    "        key=input('Enter key for input')\n",
    "        value=int(input('Enter its corresponding value '))\n",
    "        #timeout=int(input('Enter time , default is 0 '))\n",
    "        create(key,value)#timeout)\n",
    "    if(x==2):\n",
    "        key=input('Enter key to read')\n",
    "        print(read(str(key)))\n",
    "    if(x==3):\n",
    "        key=input('Enter key ')\n",
    "        delete(key)\n",
    "        print('key deleted')\n",
    "    if(x==5):\n",
    "        print(d)\n"
   ]
  },
  {
   "cell_type": "code",
   "execution_count": null,
   "metadata": {},
   "outputs": [],
   "source": []
  },
  {
   "cell_type": "code",
   "execution_count": 4,
   "metadata": {},
   "outputs": [],
   "source": [
    "import json\n",
    "temp=d\n",
    "with open('temp.json','w') as fp:\n",
    "    json.dump(temp,fp)\n"
   ]
  },
  {
   "cell_type": "code",
   "execution_count": 5,
   "metadata": {},
   "outputs": [
    {
     "name": "stdout",
     "output_type": "stream",
     "text": [
      "Your database after operatons are : \n",
      "{'1': [2, 0], '3': [4, 0]}\n"
     ]
    }
   ],
   "source": [
    "print('Your database after operatons are : ')\n",
    "print(temp)"
   ]
  },
  {
   "cell_type": "code",
   "execution_count": 6,
   "metadata": {},
   "outputs": [
    {
     "name": "stdout",
     "output_type": "stream",
     "text": [
      "is this first ever operation yes/no  yes\n",
      "thank you\n"
     ]
    }
   ],
   "source": [
    "x=input('is this first ever operation yes/no  ')\n",
    "if(x=='yes'):\n",
    "    with open('master.json','w') as fp:\n",
    "        json.dump(temp,fp)\n",
    "    print(\"thank you\")\n",
    "    exit()    \n",
    "    \n"
   ]
  },
  {
   "cell_type": "code",
   "execution_count": 10,
   "metadata": {},
   "outputs": [
    {
     "name": "stdout",
     "output_type": "stream",
     "text": [
      "Do you want to save this is the master dataset yes/no :yes\n",
      "All task done , thanks\n"
     ]
    }
   ],
   "source": [
    "x=input('Do you want to save this is the master dataset yes/no :')\n",
    "if(x=='yes'):\n",
    "    data={}\n",
    "    import json\n",
    "    with open('master.json', 'r') as fp:\n",
    "        data = json.load(fp)\n",
    "    \n",
    "    master=dict(data)\n",
    "    master.update(temp)\n",
    "    with open('master.json','w') as fp:\n",
    "        json.dump(master,fp)\n",
    "    \n",
    "\n",
    "    \n",
    "print('All task done , thanks')"
   ]
  },
  {
   "cell_type": "code",
   "execution_count": null,
   "metadata": {},
   "outputs": [],
   "source": []
  },
  {
   "cell_type": "code",
   "execution_count": null,
   "metadata": {},
   "outputs": [],
   "source": []
  },
  {
   "cell_type": "code",
   "execution_count": null,
   "metadata": {},
   "outputs": [],
   "source": []
  }
 ],
 "metadata": {
  "kernelspec": {
   "display_name": "Python 3",
   "language": "python",
   "name": "python3"
  },
  "language_info": {
   "codemirror_mode": {
    "name": "ipython",
    "version": 3
   },
   "file_extension": ".py",
   "mimetype": "text/x-python",
   "name": "python",
   "nbconvert_exporter": "python",
   "pygments_lexer": "ipython3",
   "version": "3.7.6"
  }
 },
 "nbformat": 4,
 "nbformat_minor": 4
}

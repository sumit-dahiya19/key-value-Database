{
 "cells": [
  {
   "cell_type": "code",
   "execution_count": 7,
   "metadata": {},
   "outputs": [],
   "source": [
    "import json # for file saving and uploading \n",
    "import time\n",
    "\n",
    "temp={}\n",
    "d=temp"
   ]
  },
  {
   "cell_type": "code",
   "execution_count": 8,
   "metadata": {},
   "outputs": [],
   "source": [
    "\n",
    "def read(k):\n",
    "    if k not in d:\n",
    "        print(\"Error:This key is not presnet\") \n",
    "    else:\n",
    "        b=d[k]\n",
    "        if b[1]!=0:\n",
    "            if time.time()<b[1]: \n",
    "                stri=str(k)+\":\"+str(b[0]) \n",
    "                return stri\n",
    "            else:\n",
    "                print(\"Error: time-to-live of\",k,\"has expired\")\n",
    "        else:\n",
    "            stri=str(k)+\":\"+str(b[0])\n",
    "            return stri\n",
    "        \n",
    "        \n",
    "def create(k,v,timeout=0):\n",
    "    if k in d:\n",
    "        print(\"Error:This key is already present in Database , Please Enter a differnet key\") \n",
    "    else:     \n",
    "            if len(d)<(1073741824) and value<=(16777216): \n",
    "                if timeout==0:\n",
    "                    l=[v,timeout]\n",
    "                else:\n",
    "                    l=[v,time.time()+timeout]\n",
    "                if len(k)<=32: \n",
    "                    d[k]=l\n",
    "            else:\n",
    "                print(\"Error: Too much memory occupied \")\n",
    "        \n",
    "\n",
    "            \n",
    "def delete(k):\n",
    "    if k not in d:\n",
    "        print(\"Error:This key is already present in Database , Please Enter a differnet key\") \n",
    "    else:\n",
    "        b=d[k]\n",
    "        if b[1]!=0:\n",
    "            if time.time()<b[1]:\n",
    "                del d[k]\n",
    "                print(\"Key is removes\")\n",
    "            else:\n",
    "                print(\"error: time-to-live of\",k,\"has expired\")\n",
    "        else:\n",
    "            del d[k]\n",
    "            print(\"key is successfully deleted\")"
   ]
  },
  {
   "cell_type": "code",
   "execution_count": null,
   "metadata": {},
   "outputs": [],
   "source": []
  },
  {
   "cell_type": "code",
   "execution_count": null,
   "metadata": {},
   "outputs": [],
   "source": []
  },
  {
   "cell_type": "code",
   "execution_count": null,
   "metadata": {},
   "outputs": [],
   "source": []
  }
 ],
 "metadata": {
  "kernelspec": {
   "display_name": "Python 3",
   "language": "python",
   "name": "python3"
  },
  "language_info": {
   "codemirror_mode": {
    "name": "ipython",
    "version": 3
   },
   "file_extension": ".py",
   "mimetype": "text/x-python",
   "name": "python",
   "nbconvert_exporter": "python",
   "pygments_lexer": "ipython3",
   "version": "3.7.6"
  }
 },
 "nbformat": 4,
 "nbformat_minor": 4
}

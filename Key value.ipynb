{
 "cells": [
  {
   "cell_type": "markdown",
   "metadata": {},
   "source": [
    "# Key-Value Data Store"
   ]
  },
  {
   "cell_type": "markdown",
   "metadata": {},
   "source": [
    "Problem: Build a file based key-value data store that support \n",
    "\n",
    "->create \n",
    "\n",
    "->read \n",
    "\n",
    "->delete\n",
    "\n",
    "operations , the data stored must be locally stored in the system "
   ]
  },
  {
   "cell_type": "markdown",
   "metadata": {},
   "source": [
    "### Import"
   ]
  },
  {
   "cell_type": "code",
   "execution_count": 1,
   "metadata": {},
   "outputs": [],
   "source": [
    "import json # for file saving and uploading \n",
    "import time\n"
   ]
  },
  {
   "cell_type": "markdown",
   "metadata": {},
   "source": [
    "### Database"
   ]
  },
  {
   "cell_type": "markdown",
   "metadata": {},
   "source": [
    "The database is stored locally in json format \n",
    "I have taken 2 databases, one is master database and the other is temporary database \n",
    "temporary data will store all the operations for one single process"
   ]
  },
  {
   "cell_type": "code",
   "execution_count": 2,
   "metadata": {},
   "outputs": [],
   "source": [
    "#master={} #Do only one time \n",
    "temp={}"
   ]
  },
  {
   "cell_type": "code",
   "execution_count": 3,
   "metadata": {},
   "outputs": [
    {
     "name": "stdout",
     "output_type": "stream",
     "text": [
      "Do you want to import master database and perform operations on it yes/no : no\n"
     ]
    }
   ],
   "source": [
    "x=input('Do you want to import master database and perform operations on it yes/no : ')\n",
    "if(x=='yes'):\n",
    "    #load master database\n",
    "    print('Loading master database in temp....')\n",
    "    with open('master.json', 'r') as masteropen:\n",
    "        data_load = json.load(masteropen)\n",
    "    temp=data_load\n",
    "    print('Loaded master database')\n",
    "    print(temp)\n",
    "\n"
   ]
  },
  {
   "cell_type": "markdown",
   "metadata": {},
   "source": [
    "### Functions\n"
   ]
  },
  {
   "cell_type": "code",
   "execution_count": 4,
   "metadata": {},
   "outputs": [],
   "source": [
    "d=temp\n",
    "def read(k):\n",
    "    if k not in d:\n",
    "        print(\"Error:This key is not presnet\") \n",
    "    else:\n",
    "        b=d[k]\n",
    "        if b[1]!=0:\n",
    "            if time.time()<b[1]: \n",
    "                stri=str(k)+\":\"+str(b[0]) \n",
    "                return stri\n",
    "            else:\n",
    "                print(\"Error: time-to-live of\",k,\"has expired\")\n",
    "        else:\n",
    "            stri=str(k)+\":\"+str(b[0])\n",
    "            return stri\n",
    "        \n",
    "        \n",
    "def create(k,v,timeout=0):\n",
    "    if k in d:\n",
    "        print(\"Error:This key is already present in Database , Please Enter a differnet key\") \n",
    "    else:     \n",
    "            if len(d)<(1073741824) and value<=(16777216): \n",
    "                if timeout==0:\n",
    "                    l=[v,timeout]\n",
    "                else:\n",
    "                    l=[v,time.time()+timeout]\n",
    "                if len(k)<=32: \n",
    "                    d[k]=l\n",
    "            else:\n",
    "                print(\"Error: Too much memory occupied \")\n",
    "        \n",
    "\n",
    "            \n",
    "def delete(k):\n",
    "    if k not in d:\n",
    "        print(\"Error:This key is already present in Database , Please Enter a differnet key\") \n",
    "    else:\n",
    "        b=d[k]\n",
    "        if b[1]!=0:\n",
    "            if time.time()<b[1]:\n",
    "                del d[k]\n",
    "                print(\"Key is removes\")\n",
    "            else:\n",
    "                print(\"error: time-to-live of\",k,\"has expired\")\n",
    "        else:\n",
    "            del d[k]\n",
    "            print(\"key is successfully deleted\")"
   ]
  },
  {
   "cell_type": "code",
   "execution_count": null,
   "metadata": {},
   "outputs": [],
   "source": []
  },
  {
   "cell_type": "code",
   "execution_count": null,
   "metadata": {},
   "outputs": [],
   "source": []
  },
  {
   "cell_type": "markdown",
   "metadata": {},
   "source": [
    "### Run this"
   ]
  },
  {
   "cell_type": "code",
   "execution_count": null,
   "metadata": {},
   "outputs": [
    {
     "name": "stdout",
     "output_type": "stream",
     "text": [
      "Enter 1 for create , 2 for read , 3 for delete , 4 to exit , 5 to show data 1\n",
      "Enter key for inputsumit\n",
      "Enter its corresponding value 21\n",
      "Enter 1 for create , 2 for read , 3 for delete , 4 to exit , 5 to show data 1\n",
      "Enter key for inputajay\n"
     ]
    }
   ],
   "source": [
    "flag=True\n",
    "while flag:\n",
    "    x=int(input('Enter 1 for create , 2 for read , 3 for delete , 4 to exit , 5 to show data '))\n",
    "    if(x==4):\n",
    "        break\n",
    "    if(x==1):\n",
    "        key=input('Enter key for input')\n",
    "        value=int(input('Enter its corresponding value '))\n",
    "        #timeout=int(input('Enter time , default is 0 '))\n",
    "        create(key,value)#timeout)\n",
    "    if(x==2):\n",
    "        key=input('Enter key to read')\n",
    "        print(read(str(key)))\n",
    "    if(x==3):\n",
    "        key=input('Enter key ')\n",
    "        delete(key)\n",
    "        print('key deleted')\n",
    "    if(x==5):\n",
    "        print(d)\n"
   ]
  },
  {
   "cell_type": "code",
   "execution_count": null,
   "metadata": {},
   "outputs": [],
   "source": []
  },
  {
   "cell_type": "markdown",
   "metadata": {},
   "source": [
    "### Saving the data"
   ]
  },
  {
   "cell_type": "code",
   "execution_count": 7,
   "metadata": {},
   "outputs": [],
   "source": [
    "import json\n",
    "temp=d\n",
    "with open('temp.json','w') as fp:\n",
    "    json.dump(temp,fp)\n"
   ]
  },
  {
   "cell_type": "code",
   "execution_count": 8,
   "metadata": {},
   "outputs": [
    {
     "name": "stdout",
     "output_type": "stream",
     "text": [
      "Your database after operatons are : \n",
      "{'4': [4, 0], '5': [5, 0], '6': [6, 0]}\n"
     ]
    }
   ],
   "source": [
    "print('Your database after operatons are : ')\n",
    "print(temp)"
   ]
  },
  {
   "cell_type": "code",
   "execution_count": 9,
   "metadata": {},
   "outputs": [
    {
     "name": "stdout",
     "output_type": "stream",
     "text": [
      "is this first ever operation yes/no  no\n"
     ]
    }
   ],
   "source": [
    "x=input('is this first ever operation yes/no  ')\n",
    "if(x=='yes'):\n",
    "    with open('master.json','w') as fp:\n",
    "        json.dump(temp,fp)\n",
    "    print(\"thank you\")\n",
    "    exit()    \n",
    "    \n"
   ]
  },
  {
   "cell_type": "code",
   "execution_count": 10,
   "metadata": {},
   "outputs": [
    {
     "name": "stdout",
     "output_type": "stream",
     "text": [
      "Do you want to save this is the master dataset yes/no :yes\n",
      "All task done , thanks\n"
     ]
    }
   ],
   "source": [
    "x=input('Do you want to save this is the master dataset yes/no :')\n",
    "if(x=='yes'):\n",
    "    data={}\n",
    "    import json\n",
    "    with open('master.json', 'r') as fp:\n",
    "        data = json.load(fp)\n",
    "    \n",
    "    master=dict(data)\n",
    "    master.update(temp)\n",
    "    with open('master.json','w') as fp:\n",
    "        json.dump(master,fp)\n",
    "    \n",
    "\n",
    "    \n",
    "print('All task done , thanks')"
   ]
  },
  {
   "cell_type": "code",
   "execution_count": null,
   "metadata": {},
   "outputs": [],
   "source": []
  },
  {
   "cell_type": "code",
   "execution_count": null,
   "metadata": {},
   "outputs": [],
   "source": []
  }
 ],
 "metadata": {
  "kernelspec": {
   "display_name": "Python 3",
   "language": "python",
   "name": "python3"
  },
  "language_info": {
   "codemirror_mode": {
    "name": "ipython",
    "version": 3
   },
   "file_extension": ".py",
   "mimetype": "text/x-python",
   "name": "python",
   "nbconvert_exporter": "python",
   "pygments_lexer": "ipython3",
   "version": "3.7.6"
  }
 },
 "nbformat": 4,
 "nbformat_minor": 4
}
